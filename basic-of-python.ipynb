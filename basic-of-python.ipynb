{
 "cells": [
  {
   "cell_type": "markdown",
   "id": "e3061e50-b47d-4ca1-84cf-f2e073bae301",
   "metadata": {},
   "source": [
    "# Basic Of Python"
   ]
  },
  {
   "cell_type": "markdown",
   "id": "e2225b37-20de-479d-a16c-eb875938e69c",
   "metadata": {},
   "source": [
    "- Various Datatypes in Python\n",
    "- Variable\n",
    "- Variables Assigment\n",
    "- Print Formatting"
   ]
  },
  {
   "cell_type": "markdown",
   "id": "51dd3664-5983-4663-bec1-6cbb7a992714",
   "metadata": {},
   "source": [
    "## Various DataTypes in Python"
   ]
  },
  {
   "cell_type": "code",
   "execution_count": 4,
   "id": "99ba8078-5c91-482a-a654-779868a31796",
   "metadata": {},
   "outputs": [
    {
     "data": {
      "text/plain": [
       "float"
      ]
     },
     "execution_count": 4,
     "metadata": {},
     "output_type": "execute_result"
    }
   ],
   "source": [
    "type(True)          # Output: bool\n",
    "type(\"Hello\")       # Output: str\n",
    "type(10)            # Output: int\n",
    "type(5.5)           # Output: float"
   ]
  },
  {
   "cell_type": "markdown",
   "id": "0c13629d-abdb-4a6b-aa17-e5410740f0e4",
   "metadata": {},
   "source": [
    "## Arithmetic Operations"
   ]
  },
  {
   "cell_type": "code",
   "execution_count": 5,
   "id": "fba00fa8-def8-4612-97d9-01897ebe4ad3",
   "metadata": {},
   "outputs": [
    {
     "data": {
      "text/plain": [
       "100"
      ]
     },
     "execution_count": 5,
     "metadata": {},
     "output_type": "execute_result"
    }
   ],
   "source": [
    "1 + 1          # Addition\n",
    "4 * 5          # Multiplication\n",
    "2 * 10         # Multiplication\n",
    "10 / 2         # Division (returns float)\n",
    "10 % 2         # Modulus (remainder)\n",
    "10 ** 2        # Exponentiation"
   ]
  },
  {
   "cell_type": "markdown",
   "id": "2f31bc31-49d1-4dc3-8fcb-31e26fe7cf44",
   "metadata": {},
   "source": [
    "## Working with String"
   ]
  },
  {
   "cell_type": "code",
   "execution_count": 7,
   "id": "f7d69968-dd8f-4dad-b02b-cdb93174cba2",
   "metadata": {},
   "outputs": [
    {
     "data": {
      "text/plain": [
       "str"
      ]
     },
     "execution_count": 7,
     "metadata": {},
     "output_type": "execute_result"
    }
   ],
   "source": [
    "\"Hello\"\n",
    "'Hello'\n",
    "'Dikshita Singh'\n",
    "type(\"Krish Naik\")   # Output: str"
   ]
  },
  {
   "cell_type": "markdown",
   "id": "8ca4b630-376c-43f8-9444-87a2752a74ab",
   "metadata": {},
   "source": [
    "### Variable Assignment"
   ]
  },
  {
   "cell_type": "code",
   "execution_count": 12,
   "id": "9478b255-d8f3-48db-be15-f2abd6eaf730",
   "metadata": {},
   "outputs": [
    {
     "data": {
      "text/plain": [
       "str"
      ]
     },
     "execution_count": 12,
     "metadata": {},
     "output_type": "execute_result"
    }
   ],
   "source": [
    "a = 10\n",
    "type(a)             # Output: int\n",
    "\n",
    "a = 'Dikshita Singh'\n",
    "type(a)             # Output: str"
   ]
  },
  {
   "cell_type": "markdown",
   "id": "28a7b8db-15bb-4e54-8ac1-5f7e91362b93",
   "metadata": {},
   "source": [
    "## Mathematical Operations with Variables"
   ]
  },
  {
   "cell_type": "code",
   "execution_count": 9,
   "id": "3ccc614c-e2f2-4496-a3f6-5d1c4031cfe7",
   "metadata": {},
   "outputs": [
    {
     "name": "stdout",
     "output_type": "stream",
     "text": [
      "200\n",
      "0.5\n",
      "10\n",
      "200.5\n"
     ]
    }
   ],
   "source": [
    "a = 10\n",
    "b = 20\n",
    "\n",
    "print(a * b)                 # Output: 200\n",
    "print(a / b)                 # Output: 0.5\n",
    "print(a % b)                 # Output: 10\n",
    "print((a * b) + (a / b))     # Output: 200.5 (BODMAS)"
   ]
  },
  {
   "cell_type": "markdown",
   "id": "50caba47-32dc-4909-9cf2-4de8cc2b417a",
   "metadata": {},
   "source": [
    "## print Formating"
   ]
  },
  {
   "cell_type": "code",
   "execution_count": 11,
   "id": "bdf170c3-6f8e-488a-bbf5-f7d26827a2f0",
   "metadata": {},
   "outputs": [
    {
     "name": "stdout",
     "output_type": "stream",
     "text": [
      "Hello\n",
      "My first name is Dikshita and last name is Singh\n",
      "My First name is Dikshita and last name is Singh\n"
     ]
    }
   ],
   "source": [
    "print(\"Hello\")\n",
    "\n",
    "first_name = 'Dikshita'\n",
    "last_name = 'Singh'\n",
    "\n",
    "print(\"My first name is {} and last name is {}\".format(first_name, last_name))\n",
    "print(\"My First name is {first} and last name is {last}\".format(first=first_name, last=last_name))"
   ]
  },
  {
   "cell_type": "markdown",
   "id": "583e0d16-bf24-497f-b077-ebe652e884ad",
   "metadata": {},
   "source": [
    "## Built in Functions"
   ]
  },
  {
   "cell_type": "code",
   "execution_count": null,
   "id": "b0dc0a45-8cac-4234-9e06-7f0a279cfac7",
   "metadata": {},
   "outputs": [],
   "source": [
    "len('Dikshita')                      # Output: 5\n",
    "type(['1', 2, 3, 4, 5])           # Output: list"
   ]
  }
 ],
 "metadata": {
  "kernelspec": {
   "display_name": "Python 3 (ipykernel)",
   "language": "python",
   "name": "python3"
  },
  "language_info": {
   "codemirror_mode": {
    "name": "ipython",
    "version": 3
   },
   "file_extension": ".py",
   "mimetype": "text/x-python",
   "name": "python",
   "nbconvert_exporter": "python",
   "pygments_lexer": "ipython3",
   "version": "3.13.5"
  }
 },
 "nbformat": 4,
 "nbformat_minor": 5
}
