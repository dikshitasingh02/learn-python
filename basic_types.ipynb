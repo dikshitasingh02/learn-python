{
 "cells": [
  {
   "cell_type": "markdown",
   "id": "55f1c68c-e788-4b8a-8ceb-7d0476d5a811",
   "metadata": {},
   "source": [
    "# Jupyter Shortcuts\n",
    "\n",
    "+ esc + a  - Add a cell above the current Cell\n",
    "+ esc + b - Add a cell below the current cell\n",
    "+ esc + m - Convert current cell to markdown\n",
    "+ esc + y - Convert current cell to code cell\n",
    "+ esc + x  - Delete the current cell\n",
    "+ shift + enter - Execute a cell"
   ]
  },
  {
   "cell_type": "code",
   "execution_count": 4,
   "id": "02f8cb7d-57d2-4db2-ab37-25444a5ac192",
   "metadata": {},
   "outputs": [
    {
     "name": "stdout",
     "output_type": "stream",
     "text": [
      "Hello\n"
     ]
    }
   ],
   "source": [
    "# This is a comment\n",
    "print('Hello')"
   ]
  },
  {
   "cell_type": "markdown",
   "id": "147167b6-6f1e-476f-b97d-70cbe3d50280",
   "metadata": {},
   "source": [
    "<font color=\"blue\"> This is blue text </font>"
   ]
  },
  {
   "cell_type": "markdown",
   "id": "2748baa4-abd4-4501-94a5-368a84a313e5",
   "metadata": {},
   "source": [
    "## Datatypes"
   ]
  },
  {
   "cell_type": "markdown",
   "id": "b3b77963-5e59-4eb6-b07c-7d86b8853ceb",
   "metadata": {},
   "source": [
    "### Integer"
   ]
  },
  {
   "cell_type": "code",
   "execution_count": 6,
   "id": "ea1d6c74-cfdb-43aa-b648-0014ddbd3dee",
   "metadata": {},
   "outputs": [
    {
     "name": "stdout",
     "output_type": "stream",
     "text": [
      "12\n"
     ]
    },
    {
     "data": {
      "text/plain": [
       "int"
      ]
     },
     "execution_count": 6,
     "metadata": {},
     "output_type": "execute_result"
    }
   ],
   "source": [
    "x = 12\n",
    "print(x)\n",
    "type(x)"
   ]
  },
  {
   "cell_type": "markdown",
   "id": "4f56a3d8-3432-4648-80a2-2fb17add0a71",
   "metadata": {},
   "source": [
    "### Float"
   ]
  },
  {
   "cell_type": "code",
   "execution_count": 7,
   "id": "3cef0204-458e-4d53-91b7-9088bc693d67",
   "metadata": {},
   "outputs": [
    {
     "name": "stdout",
     "output_type": "stream",
     "text": [
      "15.78\n"
     ]
    },
    {
     "data": {
      "text/plain": [
       "float"
      ]
     },
     "execution_count": 7,
     "metadata": {},
     "output_type": "execute_result"
    }
   ],
   "source": [
    "y = 15.78\n",
    "print(y)\n",
    "type(y)"
   ]
  },
  {
   "cell_type": "markdown",
   "id": "b03a766c-5ce8-4317-a650-2691673a6140",
   "metadata": {},
   "source": [
    "### Boolean"
   ]
  },
  {
   "cell_type": "code",
   "execution_count": 8,
   "id": "d1c33639-d4b7-47d5-b108-a5de657b1414",
   "metadata": {},
   "outputs": [
    {
     "name": "stdout",
     "output_type": "stream",
     "text": [
      "True\n"
     ]
    },
    {
     "data": {
      "text/plain": [
       "bool"
      ]
     },
     "execution_count": 8,
     "metadata": {},
     "output_type": "execute_result"
    }
   ],
   "source": [
    "z = True\n",
    "print(z)\n",
    "type(z)"
   ]
  },
  {
   "cell_type": "markdown",
   "id": "8c00144c-8c08-47e1-baec-c08deaf35655",
   "metadata": {},
   "source": [
    "## Arithmetic Operations"
   ]
  },
  {
   "cell_type": "code",
   "execution_count": 9,
   "id": "cb24fba6-8d18-4f8d-a573-a2cd0c06bea3",
   "metadata": {},
   "outputs": [
    {
     "name": "stdout",
     "output_type": "stream",
     "text": [
      "Addition: 13\n",
      "Subtraction: 7\n",
      "Multiplication: 30\n",
      "Division: 3.3333333333333335\n",
      "Modulus: 1\n",
      "Floor Division: 3\n",
      "Floor Division of -x: -4\n",
      "Power: 1000\n"
     ]
    }
   ],
   "source": [
    "x = 10\n",
    "y = 3\n",
    "\n",
    "print(\"Addition:\", x + y)\n",
    "print(\"Subtraction:\", x - y)\n",
    "print(\"Multiplication:\", x * y)\n",
    "print(\"Division:\", x / y)\n",
    "print(\"Modulus:\", x % y)\n",
    "print(\"Floor Division:\", x // y)\n",
    "print(\"Floor Division of -x:\", -x // y)\n",
    "print(\"Power:\", x ** y)"
   ]
  },
  {
   "cell_type": "markdown",
   "id": "8d960005-7c1c-45a9-8469-75b4f2b59d3c",
   "metadata": {},
   "source": [
    "## Boolean operations"
   ]
  },
  {
   "cell_type": "code",
   "execution_count": 10,
   "id": "fd5a7b07-0275-469f-b057-917a5d937c81",
   "metadata": {},
   "outputs": [
    {
     "name": "stdout",
     "output_type": "stream",
     "text": [
      "x OR y: True\n",
      "x AND y: False\n",
      "NOT x: False\n",
      "NOT y: True\n"
     ]
    }
   ],
   "source": [
    "x = True\n",
    "y = False\n",
    "\n",
    "print(\"x OR y:\", x or y)\n",
    "print(\"x AND y:\", x and y)\n",
    "print(\"NOT x:\", not x)\n",
    "print(\"NOT y:\", not y)"
   ]
  },
  {
   "cell_type": "markdown",
   "id": "d1c119f8-e54f-4333-95e1-eb23ca23823f",
   "metadata": {},
   "source": [
    "## List"
   ]
  },
  {
   "cell_type": "code",
   "execution_count": 11,
   "id": "80848393-7b61-4732-959d-895f19642435",
   "metadata": {},
   "outputs": [
    {
     "name": "stdout",
     "output_type": "stream",
     "text": [
      "[45, 66, 32, 90, 77]\n"
     ]
    },
    {
     "data": {
      "text/plain": [
       "list"
      ]
     },
     "execution_count": 11,
     "metadata": {},
     "output_type": "execute_result"
    }
   ],
   "source": [
    "lst = [45, 66, 32, 90, 77]\n",
    "print(lst)\n",
    "type(lst)"
   ]
  },
  {
   "cell_type": "code",
   "execution_count": 1,
   "id": "cf417019-dfb1-4f0d-9a53-b37b55c07561",
   "metadata": {},
   "outputs": [
    {
     "data": {
      "text/plain": [
       "[10, 5.23, True, [28, 99, 70], (1, 2, 3), 'Apple']"
      ]
     },
     "execution_count": 1,
     "metadata": {},
     "output_type": "execute_result"
    }
   ],
   "source": [
    "mixed_lst = [10,5.23,True,[28,99,70],(1,2,3),'Apple']\n",
    "mixed_lst"
   ]
  },
  {
   "cell_type": "code",
   "execution_count": 2,
   "id": "bdd4c6a3-8c25-42d6-a93a-5483f5dab70c",
   "metadata": {},
   "outputs": [
    {
     "data": {
      "text/plain": [
       "5.23"
      ]
     },
     "execution_count": 2,
     "metadata": {},
     "output_type": "execute_result"
    }
   ],
   "source": [
    "mixed_lst[1]"
   ]
  },
  {
   "cell_type": "markdown",
   "id": "8ee0a159-a022-459d-9299-4e3e3683ebf9",
   "metadata": {},
   "source": [
    "## Tuple"
   ]
  },
  {
   "cell_type": "code",
   "execution_count": 12,
   "id": "e216621c-040d-4e42-b008-031eb3be75c9",
   "metadata": {},
   "outputs": [
    {
     "name": "stdout",
     "output_type": "stream",
     "text": [
      "(11, 22, 33, 44, 55, 66)\n"
     ]
    },
    {
     "data": {
      "text/plain": [
       "tuple"
      ]
     },
     "execution_count": 12,
     "metadata": {},
     "output_type": "execute_result"
    }
   ],
   "source": [
    "t1 = (11, 22, 33, 44, 55, 66)\n",
    "print(t1)\n",
    "type(t1)"
   ]
  },
  {
   "cell_type": "markdown",
   "id": "f8ce9366-1b79-4ad7-bb8b-3b05525bd53a",
   "metadata": {},
   "source": [
    "## String"
   ]
  },
  {
   "cell_type": "code",
   "execution_count": 13,
   "id": "910205f1-c2e0-4536-946f-52d13f5a1648",
   "metadata": {},
   "outputs": [
    {
     "name": "stdout",
     "output_type": "stream",
     "text": [
      "s1: Hello\n",
      "s2: Hi\n",
      "s3: Python3.0\n"
     ]
    },
    {
     "data": {
      "text/plain": [
       "str"
      ]
     },
     "execution_count": 13,
     "metadata": {},
     "output_type": "execute_result"
    }
   ],
   "source": [
    "s1 = 'Hello'\n",
    "s2 = \"Hi\"\n",
    "s3 = '''Python3.0'''\n",
    "\n",
    "print(\"s1:\", s1)\n",
    "print(\"s2:\", s2)\n",
    "print(\"s3:\", s3)\n",
    "type(s3)"
   ]
  },
  {
   "cell_type": "code",
   "execution_count": 4,
   "id": "8d27d54e-82d6-4133-9705-bb4426944bff",
   "metadata": {},
   "outputs": [
    {
     "data": {
      "text/plain": [
       "str"
      ]
     },
     "execution_count": 4,
     "metadata": {},
     "output_type": "execute_result"
    }
   ],
   "source": [
    "# string is asequence of character\n",
    "s3 = '''Python3.0'''\n",
    "type(s3[6])"
   ]
  },
  {
   "cell_type": "code",
   "execution_count": 5,
   "id": "bfe14cbe-e70e-4984-bf51-50a2a342343b",
   "metadata": {},
   "outputs": [],
   "source": [
    "s4 = 'I love python'"
   ]
  },
  {
   "cell_type": "code",
   "execution_count": 6,
   "id": "c1d10d96-84a6-4b45-b3c5-6addb52c693e",
   "metadata": {},
   "outputs": [
    {
     "data": {
      "text/plain": [
       "'love'"
      ]
     },
     "execution_count": 6,
     "metadata": {},
     "output_type": "execute_result"
    }
   ],
   "source": [
    "s4[2:6]"
   ]
  },
  {
   "cell_type": "code",
   "execution_count": 7,
   "id": "f966cfdc-e2d7-4da9-99b7-efb064279377",
   "metadata": {},
   "outputs": [
    {
     "data": {
      "text/plain": [
       "'python'"
      ]
     },
     "execution_count": 7,
     "metadata": {},
     "output_type": "execute_result"
    }
   ],
   "source": [
    "s4[-6:]"
   ]
  },
  {
   "cell_type": "markdown",
   "id": "2b8eaf9c-6187-43ba-9032-259f449cbefe",
   "metadata": {},
   "source": [
    "### Iteration"
   ]
  },
  {
   "cell_type": "code",
   "execution_count": 11,
   "id": "44bcda5b-b1ed-425f-91aa-92dc1ddc0a96",
   "metadata": {},
   "outputs": [
    {
     "data": {
      "text/plain": [
       "['Apple', 'rice', 'Coffee', 'Soap', 'Notebook', 'shampoo']"
      ]
     },
     "execution_count": 11,
     "metadata": {},
     "output_type": "execute_result"
    }
   ],
   "source": [
    "shop_lst = ['Apple', 'rice', 'Coffee', 'Soap', 'Notebook']\n",
    "shop_lst.append('shampoo')\n",
    "shop_lst"
   ]
  },
  {
   "cell_type": "code",
   "execution_count": 13,
   "id": "2d5859ba-95ea-4c42-904e-2db80575a1de",
   "metadata": {},
   "outputs": [
    {
     "data": {
      "text/plain": [
       "['Apple', 'rice', 'Coffee', 'tea', 'Soap', 'Notebook', 'shampoo']"
      ]
     },
     "execution_count": 13,
     "metadata": {},
     "output_type": "execute_result"
    }
   ],
   "source": [
    "shop_lst.insert(3,'tea')\n",
    "shop_lst"
   ]
  },
  {
   "cell_type": "code",
   "execution_count": 10,
   "id": "d728189a-0b5e-41ca-9e7b-32da73e6fd19",
   "metadata": {},
   "outputs": [
    {
     "name": "stdout",
     "output_type": "stream",
     "text": [
      "Apple\n",
      "Hi\n",
      "---------\n",
      "rice\n",
      "Hi\n",
      "---------\n",
      "Coffee\n",
      "Hi\n",
      "---------\n",
      "Soap\n",
      "Hi\n",
      "---------\n",
      "Notebook\n",
      "Hi\n",
      "---------\n"
     ]
    }
   ],
   "source": [
    "for x in shop_lst:\n",
    "    print(x)\n",
    "    print('Hi')\n",
    "    print('---------')"
   ]
  },
  {
   "cell_type": "code",
   "execution_count": 12,
   "id": "9ee7647b-da1f-44ab-a0dd-d085822df6d2",
   "metadata": {},
   "outputs": [
    {
     "data": {
      "text/plain": [
       "[34, 56, 77, 88, 94, 45, 33, 11, 90]"
      ]
     },
     "execution_count": 12,
     "metadata": {},
     "output_type": "execute_result"
    }
   ],
   "source": [
    "l1 = [34,56,77,88,94,45,33,11,90]\n",
    "l1"
   ]
  },
  {
   "cell_type": "code",
   "execution_count": 14,
   "id": "b7f6f1d8-7662-4c45-8abb-75bdedace578",
   "metadata": {},
   "outputs": [
    {
     "data": {
      "text/plain": [
       "[34, 56, 77, 88, 94, 45, 33, 11, 90, 11, 22, 33]"
      ]
     },
     "execution_count": 14,
     "metadata": {},
     "output_type": "execute_result"
    }
   ],
   "source": [
    "l1.extend( [11,22,33] )\n",
    "l1"
   ]
  },
  {
   "cell_type": "code",
   "execution_count": 15,
   "id": "74539841-278d-427f-b648-5918c2852c98",
   "metadata": {},
   "outputs": [
    {
     "data": {
      "text/plain": [
       "33"
      ]
     },
     "execution_count": 15,
     "metadata": {},
     "output_type": "execute_result"
    }
   ],
   "source": [
    "l1.pop()"
   ]
  },
  {
   "cell_type": "code",
   "execution_count": 16,
   "id": "0e88a444-e622-4f3a-9f9d-2fc13b272635",
   "metadata": {},
   "outputs": [
    {
     "data": {
      "text/plain": [
       "[34, 56, 77, 88, 94, 45, 33, 11, 90, 11, 22]"
      ]
     },
     "execution_count": 16,
     "metadata": {},
     "output_type": "execute_result"
    }
   ],
   "source": [
    "l1"
   ]
  },
  {
   "cell_type": "code",
   "execution_count": 17,
   "id": "ca8c106d-61f3-4fd2-bfd1-7b009372e9a7",
   "metadata": {},
   "outputs": [
    {
     "data": {
      "text/plain": [
       "77"
      ]
     },
     "execution_count": 17,
     "metadata": {},
     "output_type": "execute_result"
    }
   ],
   "source": [
    "l1.pop(2)"
   ]
  },
  {
   "cell_type": "code",
   "execution_count": 20,
   "id": "79e76b8a-40cb-451e-9d44-c644b7d5ee94",
   "metadata": {},
   "outputs": [
    {
     "data": {
      "text/plain": [
       "['Apple', 'rice', 'Coffee', 'tea', 'Soap', 'Notebook']"
      ]
     },
     "execution_count": 20,
     "metadata": {},
     "output_type": "execute_result"
    }
   ],
   "source": [
    "shop_lst.remove('shampoo')\n",
    "shop_lst"
   ]
  },
  {
   "cell_type": "code",
   "execution_count": 23,
   "id": "ccd73f7c-d160-4cbf-a432-663b69719be0",
   "metadata": {},
   "outputs": [
    {
     "data": {
      "text/plain": [
       "[11, 11, 22, 33, 34, 45, 56, 88, 90, 94]"
      ]
     },
     "execution_count": 23,
     "metadata": {},
     "output_type": "execute_result"
    }
   ],
   "source": [
    "l1.sort()\n",
    "l1"
   ]
  },
  {
   "cell_type": "code",
   "execution_count": 25,
   "id": "60aff398-bf59-4abe-9549-a72d6121df51",
   "metadata": {},
   "outputs": [
    {
     "data": {
      "text/plain": [
       "[94, 90, 88, 56, 45, 34, 33, 22, 11, 11]"
      ]
     },
     "execution_count": 25,
     "metadata": {},
     "output_type": "execute_result"
    }
   ],
   "source": [
    "l1.sort(reverse=True)\n",
    "l1"
   ]
  },
  {
   "cell_type": "code",
   "execution_count": 26,
   "id": "2aa42761-bc88-44e1-82cf-b343a533c24e",
   "metadata": {},
   "outputs": [
    {
     "data": {
      "text/plain": [
       "6"
      ]
     },
     "execution_count": 26,
     "metadata": {},
     "output_type": "execute_result"
    }
   ],
   "source": [
    "l1.index(33)"
   ]
  },
  {
   "cell_type": "code",
   "execution_count": 28,
   "id": "65ee3424-a806-4f01-98ce-96a74d785df6",
   "metadata": {},
   "outputs": [
    {
     "data": {
      "text/plain": [
       "5"
      ]
     },
     "execution_count": 28,
     "metadata": {},
     "output_type": "execute_result"
    }
   ],
   "source": [
    "shop_lst.index('Notebook')"
   ]
  },
  {
   "cell_type": "code",
   "execution_count": 29,
   "id": "1df4b490-122c-4320-8f38-e7b3e4f3144a",
   "metadata": {},
   "outputs": [],
   "source": [
    "l1 = [1,2,3]\n",
    "l2 = l1"
   ]
  },
  {
   "cell_type": "code",
   "execution_count": 30,
   "id": "e5b7bf3f-2a19-4252-96c2-f75d10cf7606",
   "metadata": {},
   "outputs": [
    {
     "data": {
      "text/plain": [
       "[1, 2, 3]"
      ]
     },
     "execution_count": 30,
     "metadata": {},
     "output_type": "execute_result"
    }
   ],
   "source": [
    "l1"
   ]
  },
  {
   "cell_type": "code",
   "execution_count": 31,
   "id": "3339c205-6717-4897-a110-b4d6ce5456da",
   "metadata": {},
   "outputs": [
    {
     "data": {
      "text/plain": [
       "[1, 2, 3]"
      ]
     },
     "execution_count": 31,
     "metadata": {},
     "output_type": "execute_result"
    }
   ],
   "source": [
    "l2"
   ]
  },
  {
   "cell_type": "code",
   "execution_count": 32,
   "id": "f9835b09-2870-41db-9c3a-510ddfb8ecf2",
   "metadata": {},
   "outputs": [],
   "source": [
    "l1.append(100)"
   ]
  },
  {
   "cell_type": "code",
   "execution_count": 33,
   "id": "d32ba228-2c42-471f-ad6a-a52a86791433",
   "metadata": {},
   "outputs": [
    {
     "data": {
      "text/plain": [
       "[1, 2, 3, 100]"
      ]
     },
     "execution_count": 33,
     "metadata": {},
     "output_type": "execute_result"
    }
   ],
   "source": [
    "l1"
   ]
  },
  {
   "cell_type": "code",
   "execution_count": 34,
   "id": "95dc7e2e-11a9-499b-90eb-b8417dc6e907",
   "metadata": {},
   "outputs": [
    {
     "data": {
      "text/plain": [
       "[1, 2, 3, 100]"
      ]
     },
     "execution_count": 34,
     "metadata": {},
     "output_type": "execute_result"
    }
   ],
   "source": [
    "l2"
   ]
  },
  {
   "cell_type": "code",
   "execution_count": 36,
   "id": "0ba64731-3e77-4e42-96eb-9113ea86602f",
   "metadata": {},
   "outputs": [],
   "source": [
    "l1 = [1,2,3]\n",
    "l2 = l1.copy()"
   ]
  },
  {
   "cell_type": "code",
   "execution_count": 37,
   "id": "a12a79db-7d70-4a84-90cb-33a735f36b1a",
   "metadata": {},
   "outputs": [],
   "source": [
    "l1.append(100)"
   ]
  },
  {
   "cell_type": "code",
   "execution_count": 38,
   "id": "7ef291b1-a0c1-425f-8228-3542c9356771",
   "metadata": {},
   "outputs": [
    {
     "data": {
      "text/plain": [
       "[1, 2, 3, 100]"
      ]
     },
     "execution_count": 38,
     "metadata": {},
     "output_type": "execute_result"
    }
   ],
   "source": [
    "l1"
   ]
  },
  {
   "cell_type": "code",
   "execution_count": 39,
   "id": "a1232050-cfdc-485d-8f34-aac291e04a0d",
   "metadata": {},
   "outputs": [
    {
     "data": {
      "text/plain": [
       "[1, 2, 3]"
      ]
     },
     "execution_count": 39,
     "metadata": {},
     "output_type": "execute_result"
    }
   ],
   "source": [
    "l2"
   ]
  },
  {
   "cell_type": "code",
   "execution_count": 40,
   "id": "f7ab0f51-d18c-44f2-970c-05b7770e3cbc",
   "metadata": {},
   "outputs": [
    {
     "data": {
      "text/plain": [
       "['__add__',\n",
       " '__class__',\n",
       " '__class_getitem__',\n",
       " '__contains__',\n",
       " '__delattr__',\n",
       " '__dir__',\n",
       " '__doc__',\n",
       " '__eq__',\n",
       " '__format__',\n",
       " '__ge__',\n",
       " '__getattribute__',\n",
       " '__getitem__',\n",
       " '__getnewargs__',\n",
       " '__getstate__',\n",
       " '__gt__',\n",
       " '__hash__',\n",
       " '__init__',\n",
       " '__init_subclass__',\n",
       " '__iter__',\n",
       " '__le__',\n",
       " '__len__',\n",
       " '__lt__',\n",
       " '__mul__',\n",
       " '__ne__',\n",
       " '__new__',\n",
       " '__reduce__',\n",
       " '__reduce_ex__',\n",
       " '__repr__',\n",
       " '__rmul__',\n",
       " '__setattr__',\n",
       " '__sizeof__',\n",
       " '__str__',\n",
       " '__subclasshook__',\n",
       " 'count',\n",
       " 'index']"
      ]
     },
     "execution_count": 40,
     "metadata": {},
     "output_type": "execute_result"
    }
   ],
   "source": [
    "dir(tuple)"
   ]
  },
  {
   "cell_type": "code",
   "execution_count": 41,
   "id": "99988152-83d3-415e-a271-099079381b05",
   "metadata": {},
   "outputs": [],
   "source": [
    "t1 = (1,2,3,3,5,7)"
   ]
  },
  {
   "cell_type": "code",
   "execution_count": 42,
   "id": "1f34ac61-a3ce-4256-92b3-d0d0f7707d6c",
   "metadata": {},
   "outputs": [
    {
     "data": {
      "text/plain": [
       "2"
      ]
     },
     "execution_count": 42,
     "metadata": {},
     "output_type": "execute_result"
    }
   ],
   "source": [
    "t1.count(3)"
   ]
  },
  {
   "cell_type": "code",
   "execution_count": 43,
   "id": "9ec8e6f1-2ad6-428d-a67f-c1325faf41be",
   "metadata": {},
   "outputs": [
    {
     "data": {
      "text/plain": [
       "4"
      ]
     },
     "execution_count": 43,
     "metadata": {},
     "output_type": "execute_result"
    }
   ],
   "source": [
    "t1.index(5)"
   ]
  },
  {
   "cell_type": "markdown",
   "id": "94629ab0-025b-404b-a3c7-da101db4f836",
   "metadata": {},
   "source": [
    "#### String Methods"
   ]
  },
  {
   "cell_type": "code",
   "execution_count": 44,
   "id": "a0d00bca-5460-4ce7-a0ca-6b7cf6817810",
   "metadata": {},
   "outputs": [],
   "source": [
    "s1 ='i love python'"
   ]
  },
  {
   "cell_type": "code",
   "execution_count": 45,
   "id": "7d7fee75-57f0-494b-9e9c-4107e9822edd",
   "metadata": {},
   "outputs": [
    {
     "data": {
      "text/plain": [
       "'I love python'"
      ]
     },
     "execution_count": 45,
     "metadata": {},
     "output_type": "execute_result"
    }
   ],
   "source": [
    "s1.capitalize()"
   ]
  },
  {
   "cell_type": "code",
   "execution_count": 46,
   "id": "9059edcf-3868-42ed-9e3e-8d6f6f116c45",
   "metadata": {},
   "outputs": [
    {
     "data": {
      "text/plain": [
       "'I Love Python'"
      ]
     },
     "execution_count": 46,
     "metadata": {},
     "output_type": "execute_result"
    }
   ],
   "source": [
    "s1.title()"
   ]
  },
  {
   "cell_type": "code",
   "execution_count": 48,
   "id": "7ea6dbbd-cb9b-47c8-ab69-72c6681ec459",
   "metadata": {},
   "outputs": [],
   "source": [
    "s2 = s1.upper()"
   ]
  },
  {
   "cell_type": "code",
   "execution_count": 49,
   "id": "8eb3b5ba-e016-40ba-a200-415711c96ee0",
   "metadata": {},
   "outputs": [
    {
     "data": {
      "text/plain": [
       "'I LOVE PYTHON'"
      ]
     },
     "execution_count": 49,
     "metadata": {},
     "output_type": "execute_result"
    }
   ],
   "source": [
    "s2"
   ]
  },
  {
   "cell_type": "code",
   "execution_count": 50,
   "id": "7457d8d5-579d-43c5-a71f-cfed67ae0413",
   "metadata": {},
   "outputs": [
    {
     "data": {
      "text/plain": [
       "'I love Python'"
      ]
     },
     "execution_count": 50,
     "metadata": {},
     "output_type": "execute_result"
    }
   ],
   "source": [
    "s1"
   ]
  },
  {
   "cell_type": "code",
   "execution_count": 51,
   "id": "2a231aa4-c5fa-4809-9137-46ffd1756ff5",
   "metadata": {},
   "outputs": [],
   "source": [
    "s3 ='      python    '"
   ]
  },
  {
   "cell_type": "code",
   "execution_count": 52,
   "id": "a664f7e2-b56f-41cb-bd7a-df289f7866a7",
   "metadata": {},
   "outputs": [
    {
     "data": {
      "text/plain": [
       "('python    ', '      python', 'python')"
      ]
     },
     "execution_count": 52,
     "metadata": {},
     "output_type": "execute_result"
    }
   ],
   "source": [
    "s3.lstrip(),s3.rstrip(),s3.strip()"
   ]
  },
  {
   "cell_type": "code",
   "execution_count": 53,
   "id": "e4c8f45c-878e-4282-b833-35479efc3208",
   "metadata": {},
   "outputs": [
    {
     "data": {
      "text/plain": [
       "'I love Python'"
      ]
     },
     "execution_count": 53,
     "metadata": {},
     "output_type": "execute_result"
    }
   ],
   "source": [
    "s1"
   ]
  },
  {
   "cell_type": "code",
   "execution_count": 55,
   "id": "b3ff8c54-1031-4720-b1ad-9c70c37504fc",
   "metadata": {},
   "outputs": [
    {
     "data": {
      "text/plain": [
       "2"
      ]
     },
     "execution_count": 55,
     "metadata": {},
     "output_type": "execute_result"
    }
   ],
   "source": [
    "s1.find('love')"
   ]
  },
  {
   "cell_type": "code",
   "execution_count": 56,
   "id": "528c4dd8-fa18-47de-bbcf-bef1d5904236",
   "metadata": {},
   "outputs": [],
   "source": [
    "sent = \"This is an example of using split function\""
   ]
  },
  {
   "cell_type": "code",
   "execution_count": 58,
   "id": "5e6451af-4683-4e33-822c-80b0cdff77f2",
   "metadata": {},
   "outputs": [
    {
     "data": {
      "text/plain": [
       "['This', 'is', 'an', 'example', 'of', 'using', 'split', 'function']"
      ]
     },
     "execution_count": 58,
     "metadata": {},
     "output_type": "execute_result"
    }
   ],
   "source": [
    "sent.split()"
   ]
  },
  {
   "cell_type": "code",
   "execution_count": null,
   "id": "d36fcabf-f970-4716-afcf-3f2c9de45c60",
   "metadata": {},
   "outputs": [],
   "source": [
    "str1 = 'Apple,orange,kiwi,banana,mango"
   ]
  },
  {
   "cell_type": "code",
   "execution_count": 62,
   "id": "92653f2b-974f-4ee9-bdfc-219020bd7a9b",
   "metadata": {},
   "outputs": [
    {
     "data": {
      "text/plain": [
       "['Apple', 'orange', 'kiwi', 'banana', 'mango']"
      ]
     },
     "execution_count": 62,
     "metadata": {},
     "output_type": "execute_result"
    }
   ],
   "source": [
    "str1 = 'Apple,orange,kiwi,banana,mango'\n",
    "str1.split(',')"
   ]
  },
  {
   "cell_type": "code",
   "execution_count": null,
   "id": "2a6256bf-5894-48bf-a13b-270c1ae5a08b",
   "metadata": {},
   "outputs": [],
   "source": []
  }
 ],
 "metadata": {
  "kernelspec": {
   "display_name": "Python 3 (ipykernel)",
   "language": "python",
   "name": "python3"
  },
  "language_info": {
   "codemirror_mode": {
    "name": "ipython",
    "version": 3
   },
   "file_extension": ".py",
   "mimetype": "text/x-python",
   "name": "python",
   "nbconvert_exporter": "python",
   "pygments_lexer": "ipython3",
   "version": "3.13.5"
  }
 },
 "nbformat": 4,
 "nbformat_minor": 5
}
